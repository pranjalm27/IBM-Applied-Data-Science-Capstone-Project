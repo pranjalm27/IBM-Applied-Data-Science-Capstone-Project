{
 "cells": [
  {
   "cell_type": "code",
   "execution_count": 1,
   "id": "cfddca03-d31a-40d3-bdaa-f147528d91f3",
   "metadata": {
    "tags": []
   },
   "outputs": [],
   "source": [
    "class Solution:\n",
    "    def romanToInt(self, s: str) -> int:\n",
    "        roman_to_int = {\n",
    "            'I': 1, 'V': 5, 'X': 10, 'L': 50,\n",
    "            'C': 100, 'D': 500, 'M': 1000\n",
    "        }\n",
    "        \n",
    "        result = 0\n",
    "        prev_value = 0\n",
    "        \n",
    "        for char in s[::-1]:\n",
    "            curr_value = roman_to_int[char]\n",
    "            \n",
    "            if curr_value < prev_value:\n",
    "                result -= curr_value\n",
    "            else:\n",
    "                result += curr_value\n",
    "            \n",
    "            prev_value = curr_value\n",
    "        \n",
    "        return result\n"
   ]
  },
  {
   "cell_type": "code",
   "execution_count": 4,
   "id": "aa6425da-ea70-4e33-a7d2-1fd89e80757a",
   "metadata": {
    "tags": []
   },
   "outputs": [
    {
     "ename": "SyntaxError",
     "evalue": "Missing parentheses in call to 'print'. Did you mean print(s = 'III')? (550307393.py, line 1)",
     "output_type": "error",
     "traceback": [
      "\u001b[0;36m  File \u001b[0;32m\"/tmp/ipykernel_565/550307393.py\"\u001b[0;36m, line \u001b[0;32m1\u001b[0m\n\u001b[0;31m    print s = 'III'\u001b[0m\n\u001b[0m          ^\u001b[0m\n\u001b[0;31mSyntaxError\u001b[0m\u001b[0;31m:\u001b[0m Missing parentheses in call to 'print'. Did you mean print(s = 'III')?\n"
     ]
    }
   ],
   "source": [
    "print s = 'III'"
   ]
  },
  {
   "cell_type": "code",
   "execution_count": null,
   "id": "9c5cb05f-c540-42f2-8bd7-b13650763261",
   "metadata": {},
   "outputs": [],
   "source": []
  }
 ],
 "metadata": {
  "kernelspec": {
   "display_name": "Python",
   "language": "python",
   "name": "conda-env-python-py"
  },
  "language_info": {
   "codemirror_mode": {
    "name": "ipython",
    "version": 3
   },
   "file_extension": ".py",
   "mimetype": "text/x-python",
   "name": "python",
   "nbconvert_exporter": "python",
   "pygments_lexer": "ipython3",
   "version": "3.7.12"
  }
 },
 "nbformat": 4,
 "nbformat_minor": 5
}
